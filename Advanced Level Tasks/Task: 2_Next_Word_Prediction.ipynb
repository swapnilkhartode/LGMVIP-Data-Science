{
  "nbformat": 4,
  "nbformat_minor": 0,
  "metadata": {
    "colab": {
      "name": "Task: 2 _Next Word Prediction.ipynb",
      "provenance": [],
      "collapsed_sections": [],
      "include_colab_link": true
    },
    "kernelspec": {
      "name": "python3",
      "display_name": "Python 3"
    },
    "language_info": {
      "name": "python"
    }
  },
  "cells": [
    {
      "cell_type": "markdown",
      "metadata": {
        "id": "view-in-github",
        "colab_type": "text"
      },
      "source": [
        "<a href=\"https://colab.research.google.com/github/swapnilkhartode/LGMVIP-Data-Science/blob/README/Advanced%20Level%20Tasks/Task%3A%202_Next_Word_Prediction.ipynb\" target=\"_parent\"><img src=\"https://colab.research.google.com/assets/colab-badge.svg\" alt=\"Open In Colab\"/></a>"
      ]
    },
    {
      "cell_type": "markdown",
      "metadata": {
        "id": "hIYNgZrS9A_f"
      },
      "source": [
        "# **LetsGrowMore Virtual Internship Program (November-2021)**\n",
        "\n",
        "**Advanced Level Task**\n",
        "\n",
        "Name :- Swapnil Ramesh Khartode\n",
        "\n",
        "Task 2 :- Next Word Prediction"
      ]
    },
    {
      "cell_type": "markdown",
      "metadata": {
        "id": "mlyZruZa9JVo"
      },
      "source": [
        "**Import the required libraries**"
      ]
    },
    {
      "cell_type": "code",
      "metadata": {
        "id": "sRpcdo0Aoy_l"
      },
      "source": [
        "import numpy as np\n",
        "from nltk.tokenize import RegexpTokenizer\n",
        "from keras.models import Sequential, load_model\n",
        "from keras.layers import LSTM\n",
        "from keras.layers.core import Dense, Activation\n",
        "from tensorflow.keras.optimizers import RMSprop\n",
        "import matplotlib.pyplot as plt\n",
        "import pickle\n",
        "import heapq"
      ],
      "execution_count": null,
      "outputs": []
    },
    {
      "cell_type": "markdown",
      "metadata": {
        "id": "i-GYBy08pLHF"
      },
      "source": [
        "**Load the data**"
      ]
    },
    {
      "cell_type": "code",
      "metadata": {
        "id": "11sOa1eUo7ec"
      },
      "source": [
        "text = open('/content/1661-0.txt').read().lower()"
      ],
      "execution_count": null,
      "outputs": []
    },
    {
      "cell_type": "code",
      "metadata": {
        "colab": {
          "base_uri": "https://localhost:8080/"
        },
        "id": "jbLluAFCpQrO",
        "outputId": "c4dc6f52-5b37-4e9b-c94f-c4c4616c6de7"
      },
      "source": [
        "print('Length of the text:', len(text))"
      ],
      "execution_count": null,
      "outputs": [
        {
          "output_type": "stream",
          "name": "stdout",
          "text": [
            "Length of the text: 581888\n"
          ]
        }
      ]
    },
    {
      "cell_type": "markdown",
      "metadata": {
        "id": "0MEO8oRZphDF"
      },
      "source": [
        "**Split the dataset**"
      ]
    },
    {
      "cell_type": "code",
      "metadata": {
        "id": "eezMbT_8pjol"
      },
      "source": [
        "tokenizer = RegexpTokenizer(r'\\w+')\n",
        "words = tokenizer.tokenize(text)"
      ],
      "execution_count": null,
      "outputs": []
    },
    {
      "cell_type": "code",
      "metadata": {
        "id": "ztxjs6uWp9Mv"
      },
      "source": [
        "unique_words = np.unique(words)\n",
        "unique_words_index = dict((c, i) for i, c in enumerate(unique_words))"
      ],
      "execution_count": null,
      "outputs": []
    },
    {
      "cell_type": "code",
      "metadata": {
        "colab": {
          "base_uri": "https://localhost:8080/"
        },
        "id": "wSlUeQT9qqz8",
        "outputId": "8ce9f524-c10e-41cf-e564-17024c431be8"
      },
      "source": [
        "word_length = 5\n",
        "prev_words = []\n",
        "next_words = []\n",
        "for i in range(len(words) - word_length):\n",
        "    prev_words.append(words[i:i + word_length])\n",
        "    next_words.append(words[i + word_length])\n",
        "print(prev_words[0])\n",
        "print(next_words[0])"
      ],
      "execution_count": null,
      "outputs": [
        {
          "output_type": "stream",
          "name": "stdout",
          "text": [
            "['project', 'gutenberg', 's', 'the', 'adventures']\n",
            "of\n"
          ]
        }
      ]
    },
    {
      "cell_type": "code",
      "metadata": {
        "id": "KOKuC-4BrEwc"
      },
      "source": [
        "dataX = np.zeros((len(prev_words), word_length, len(unique_words)), dtype=bool)\n",
        "dataY = np.zeros((len(next_words), len(unique_words)), dtype=bool)\n",
        "for i, each_words in enumerate(prev_words):\n",
        "    for j, each_word in enumerate(each_words):\n",
        "        dataX[i, j, unique_words_index[each_word]] = 1\n",
        "    dataY[i, unique_words_index[next_words[i]]] = 1"
      ],
      "execution_count": null,
      "outputs": []
    },
    {
      "cell_type": "markdown",
      "metadata": {
        "id": "lj0Inn7rrmqu"
      },
      "source": [
        "**Build the RNN (Recurrent Neural Network)**"
      ]
    },
    {
      "cell_type": "code",
      "metadata": {
        "id": "1_mKb-UErtE9"
      },
      "source": [
        "model = Sequential()\n",
        "model.add(LSTM(128, input_shape=(word_length, len(unique_words))))\n",
        "model.add(Dense(len(unique_words)))\n",
        "model.add(Activation('softmax'))"
      ],
      "execution_count": null,
      "outputs": []
    },
    {
      "cell_type": "markdown",
      "metadata": {
        "id": "Gggd1b_Pr22F"
      },
      "source": [
        "**Train the model**"
      ]
    },
    {
      "cell_type": "code",
      "metadata": {
        "colab": {
          "base_uri": "https://localhost:8080/"
        },
        "id": "OsUoKA6kGONn",
        "outputId": "d3a2fb1d-4b1e-47f4-a227-42852113b68a"
      },
      "source": [
        "optimizer = RMSprop(learning_rate=0.01)\n",
        "model.compile(loss='categorical_crossentropy', optimizer=optimizer, metrics=['accuracy'])\n",
        "history = model.fit(dataX, dataY, validation_split=0.05, batch_size=128, epochs=3, shuffle=True).history\n",
        "#epochs=30 gives more accurate prediction"
      ],
      "execution_count": null,
      "outputs": [
        {
          "output_type": "stream",
          "name": "stdout",
          "text": [
            "Epoch 1/3\n",
            "811/811 [==============================] - 308s 378ms/step - loss: 3.4168 - accuracy: 0.6001 - val_loss: 10.0284 - val_accuracy: 0.0657\n",
            "Epoch 2/3\n",
            "811/811 [==============================] - 303s 373ms/step - loss: 3.2491 - accuracy: 0.6157 - val_loss: 10.0879 - val_accuracy: 0.0622\n",
            "Epoch 3/3\n",
            "811/811 [==============================] - 306s 378ms/step - loss: 3.2012 - accuracy: 0.6240 - val_loss: 10.3796 - val_accuracy: 0.0615\n"
          ]
        }
      ]
    },
    {
      "cell_type": "code",
      "metadata": {
        "id": "Brks1an7KnW1"
      },
      "source": [
        "model.save('next_word_model.h5')\n",
        "pickle.dump(history, open(\"history.p\", \"wb\"))\n",
        "model = load_model('next_word_model.h5')\n",
        "history = pickle.load(open(\"history.p\", \"rb\"))"
      ],
      "execution_count": null,
      "outputs": []
    },
    {
      "cell_type": "markdown",
      "metadata": {
        "id": "cb9M23qVK4oU"
      },
      "source": [
        "**Test the model**"
      ]
    },
    {
      "cell_type": "code",
      "metadata": {
        "colab": {
          "base_uri": "https://localhost:8080/"
        },
        "id": "vRhZAHphOHTT",
        "outputId": "09abec7b-bb7e-420e-aaa1-5a7cd0deb751"
      },
      "source": [
        "def prepare_input(text):\n",
        "    x = np.zeros((1, word_length, len(unique_words)))\n",
        "    for t, word in enumerate(text.split()):\n",
        "        print(word)\n",
        "        x[0, t, unique_words_index[word]] = 1\n",
        "    return x\n",
        "prepare_input(\"It is not a lack\".lower())"
      ],
      "execution_count": null,
      "outputs": [
        {
          "output_type": "stream",
          "name": "stdout",
          "text": [
            "it\n",
            "is\n",
            "not\n",
            "a\n",
            "lack\n"
          ]
        },
        {
          "output_type": "execute_result",
          "data": {
            "text/plain": [
              "array([[[0., 0., 0., ..., 0., 0., 0.],\n",
              "        [0., 0., 0., ..., 0., 0., 0.],\n",
              "        [0., 0., 0., ..., 0., 0., 0.],\n",
              "        [0., 0., 0., ..., 0., 0., 0.],\n",
              "        [0., 0., 0., ..., 0., 0., 0.]]])"
            ]
          },
          "metadata": {},
          "execution_count": 46
        }
      ]
    },
    {
      "cell_type": "code",
      "metadata": {
        "id": "aH6n7YlsOed1"
      },
      "source": [
        "#to return the samples\n",
        "def return_sample(preds, top_n=3):\n",
        "    preds = np.asarray(preds).astype('float64')\n",
        "    preds = np.log(preds)\n",
        "    exp_preds = np.exp(preds)\n",
        "    preds = exp_preds / np.sum(exp_preds)\n",
        "\n",
        "    return heapq.nlargest(top_n, range(len(preds)), preds.take)"
      ],
      "execution_count": null,
      "outputs": []
    },
    {
      "cell_type": "code",
      "metadata": {
        "id": "Ap9KyzUVOh_U"
      },
      "source": [
        "def predict_words(text, n=3):\n",
        "    x = prepare_input(text)\n",
        "    preds = model.predict(x, verbose=0)[0]\n",
        "    next_indices = return_sample(preds, n)\n",
        "    return [indices_char[idx] + predict_words(text[1:] + indices_char[idx]) for idx in next_indices]"
      ],
      "execution_count": null,
      "outputs": []
    }
  ]
}