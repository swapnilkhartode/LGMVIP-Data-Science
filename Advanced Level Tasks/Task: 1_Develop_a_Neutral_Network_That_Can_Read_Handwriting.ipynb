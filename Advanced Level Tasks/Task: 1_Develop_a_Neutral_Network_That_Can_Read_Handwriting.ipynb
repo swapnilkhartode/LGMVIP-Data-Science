{
  "nbformat": 4,
  "nbformat_minor": 0,
  "metadata": {
    "colab": {
      "name": "Task: 1_Develop a Neutral Network That Can Read Handwriting.ipynb",
      "provenance": [],
      "authorship_tag": "ABX9TyMTF9ZeMkJ+e7Q8Ogevb2b1",
      "include_colab_link": true
    },
    "kernelspec": {
      "name": "python3",
      "display_name": "Python 3"
    },
    "language_info": {
      "name": "python"
    }
  },
  "cells": [
    {
      "cell_type": "markdown",
      "metadata": {
        "id": "view-in-github",
        "colab_type": "text"
      },
      "source": [
        "<a href=\"https://colab.research.google.com/github/swapnilkhartode/LGMVIP-Data-Science/blob/README/Advanced%20Level%20Tasks/Task%3A%201_Develop_a_Neutral_Network_That_Can_Read_Handwriting.ipynb\" target=\"_parent\"><img src=\"https://colab.research.google.com/assets/colab-badge.svg\" alt=\"Open In Colab\"/></a>"
      ]
    },
    {
      "cell_type": "markdown",
      "metadata": {
        "id": "NJ9Gu2dF3cTS"
      },
      "source": [
        "# **LetsGrowMore Virtual Internship Program (November-2021)**\n",
        "\n",
        "**Advanced Level Task**\n",
        "\n",
        "Name:- Swapnil Ramesh Khartode\n",
        "\n",
        "Task1:\n",
        " Develop a Neutral Network That Can Read Handwriting"
      ]
    },
    {
      "cell_type": "code",
      "metadata": {
        "id": "wzCiGlJPzPRB"
      },
      "source": [
        "import pandas as pd \n",
        "import numpy as np\n",
        "import matplotlib.pyplot as plt\n",
        "from tensorflow.keras import layers\n",
        "from numpy import unique, argmax\n",
        "import tensorflow as tf\n",
        "from tensorflow import keras\n",
        "import seaborn as sns\n",
        "from tensorflow.keras import datasets"
      ],
      "execution_count": null,
      "outputs": []
    },
    {
      "cell_type": "code",
      "metadata": {
        "colab": {
          "base_uri": "https://localhost:8080/"
        },
        "id": "zM3YsDQLzWY1",
        "outputId": "9cd8b2df-3d98-4d29-c54e-67af2649e13c"
      },
      "source": [
        "##Loading the MNIST Dataset\n",
        "(X_train,y_train),(X_test,y_test) = keras.datasets.mnist.load_data()"
      ],
      "execution_count": null,
      "outputs": [
        {
          "output_type": "stream",
          "name": "stdout",
          "text": [
            "Downloading data from https://storage.googleapis.com/tensorflow/tf-keras-datasets/mnist.npz\n",
            "11493376/11490434 [==============================] - 0s 0us/step\n",
            "11501568/11490434 [==============================] - 0s 0us/step\n"
          ]
        }
      ]
    },
    {
      "cell_type": "code",
      "metadata": {
        "colab": {
          "base_uri": "https://localhost:8080/"
        },
        "id": "PgOuX5f4zcF2",
        "outputId": "ab4d1e07-7121-41d6-b153-22e04f8fff83"
      },
      "source": [
        "print(\"X_train Shape: \", X_train.shape)\n",
        "print(\"Y_train Shape: \", y_train.shape)\n",
        "print(\"X_test Shape: \", X_test.shape)\n",
        "print(\"Y_test Shape: \", y_test.shape)"
      ],
      "execution_count": null,
      "outputs": [
        {
          "output_type": "stream",
          "name": "stdout",
          "text": [
            "X_train Shape:  (60000, 28, 28)\n",
            "Y_train Shape:  (60000,)\n",
            "X_test Shape:  (10000, 28, 28)\n",
            "Y_test Shape:  (10000,)\n"
          ]
        }
      ]
    },
    {
      "cell_type": "code",
      "metadata": {
        "id": "TPV9rgQyzg7A"
      },
      "source": [
        "#Normalization\n",
        "X_train=X_train/255\n",
        "X_test=X_test/255"
      ],
      "execution_count": null,
      "outputs": []
    },
    {
      "cell_type": "code",
      "metadata": {
        "id": "z3vGPvSjzlkK"
      },
      "source": [
        "##Reshaping the training and test datasets\n",
        "X_train=X_train.reshape(60000,28,28,1)\n",
        "X_test=X_test.reshape(10000,28,28,1)"
      ],
      "execution_count": null,
      "outputs": []
    },
    {
      "cell_type": "code",
      "metadata": {
        "colab": {
          "base_uri": "https://localhost:8080/"
        },
        "id": "NT_Z3wREzqWq",
        "outputId": "23fde189-5dd7-4516-a596-bc72f693497e"
      },
      "source": [
        "len(X_train)"
      ],
      "execution_count": null,
      "outputs": [
        {
          "output_type": "execute_result",
          "data": {
            "text/plain": [
              "60000"
            ]
          },
          "metadata": {},
          "execution_count": 6
        }
      ]
    },
    {
      "cell_type": "code",
      "metadata": {
        "colab": {
          "base_uri": "https://localhost:8080/"
        },
        "id": "bL8dIgvczt9T",
        "outputId": "f8c8abe3-ef59-43ef-a3eb-9f815745e875"
      },
      "source": [
        "len(X_test)"
      ],
      "execution_count": null,
      "outputs": [
        {
          "output_type": "execute_result",
          "data": {
            "text/plain": [
              "10000"
            ]
          },
          "metadata": {},
          "execution_count": 7
        }
      ]
    },
    {
      "cell_type": "code",
      "metadata": {
        "id": "6SUeo9dNz0oU"
      },
      "source": [
        "## Training model using CNN\n",
        "model=keras.models.Sequential([\n",
        "    keras.layers.Conv2D(filters=32,kernel_size=3,activation='relu',input_shape=[28,28,1]),\n",
        "    keras.layers.MaxPooling2D(pool_size=2,strides=2),\n",
        "    keras.layers.Conv2D(filters=32,kernel_size=3,activation='relu'),\n",
        "    keras.layers.MaxPooling2D(pool_size=2,strides=2),\n",
        "    keras.layers.Flatten(),\n",
        "    keras.layers.Dense(128,activation='relu'),\n",
        "    keras.layers.Dense(10,activation='softmax')\n",
        "])"
      ],
      "execution_count": null,
      "outputs": []
    },
    {
      "cell_type": "code",
      "metadata": {
        "colab": {
          "base_uri": "https://localhost:8080/"
        },
        "id": "JgbnG7qnz665",
        "outputId": "207f8f3f-c013-4fd4-9e22-a95cbb48fd70"
      },
      "source": [
        "model.compile(optimizer='adam',loss='sparse_categorical_crossentropy',metrics=['accuracy'])\n",
        "model.fit(X_train,y_train,epochs=10,batch_size=512)"
      ],
      "execution_count": null,
      "outputs": [
        {
          "output_type": "stream",
          "name": "stdout",
          "text": [
            "Epoch 1/10\n",
            "118/118 [==============================] - 36s 294ms/step - loss: 0.4981 - accuracy: 0.8693\n",
            "Epoch 2/10\n",
            "118/118 [==============================] - 34s 292ms/step - loss: 0.1049 - accuracy: 0.9686\n",
            "Epoch 3/10\n",
            "118/118 [==============================] - 35s 294ms/step - loss: 0.0704 - accuracy: 0.9790\n",
            "Epoch 4/10\n",
            "118/118 [==============================] - 34s 292ms/step - loss: 0.0546 - accuracy: 0.9833\n",
            "Epoch 5/10\n",
            "118/118 [==============================] - 35s 293ms/step - loss: 0.0464 - accuracy: 0.9853\n",
            "Epoch 6/10\n",
            "118/118 [==============================] - 35s 293ms/step - loss: 0.0405 - accuracy: 0.9876\n",
            "Epoch 7/10\n",
            "118/118 [==============================] - 35s 297ms/step - loss: 0.0357 - accuracy: 0.9889\n",
            "Epoch 8/10\n",
            "118/118 [==============================] - 35s 294ms/step - loss: 0.0319 - accuracy: 0.9898\n",
            "Epoch 9/10\n",
            "118/118 [==============================] - 34s 290ms/step - loss: 0.0267 - accuracy: 0.9921\n",
            "Epoch 10/10\n",
            "118/118 [==============================] - 34s 290ms/step - loss: 0.0251 - accuracy: 0.9923\n"
          ]
        },
        {
          "output_type": "execute_result",
          "data": {
            "text/plain": [
              "<keras.callbacks.History at 0x7f6ae7993e10>"
            ]
          },
          "metadata": {},
          "execution_count": 9
        }
      ]
    },
    {
      "cell_type": "code",
      "metadata": {
        "colab": {
          "base_uri": "https://localhost:8080/"
        },
        "id": "-sn_qwtL0QEX",
        "outputId": "4765ba42-c055-4085-d546-93cd84d6e2b5"
      },
      "source": [
        "#Model Comiled Successfully, Now Testing\n",
        "model.evaluate(X_test,y_test,verbose=5)"
      ],
      "execution_count": null,
      "outputs": [
        {
          "output_type": "execute_result",
          "data": {
            "text/plain": [
              "[0.03912752866744995, 0.9868999719619751]"
            ]
          },
          "metadata": {},
          "execution_count": 10
        }
      ]
    },
    {
      "cell_type": "code",
      "metadata": {
        "colab": {
          "base_uri": "https://localhost:8080/"
        },
        "id": "V5M2jcFK1htW",
        "outputId": "6c16c633-77c8-4994-a52c-fb7305684323"
      },
      "source": [
        "probability_model = tf.keras.Sequential([ model, tf.keras.layers.Softmax() ])\n",
        "probability_model(X_test[:5])"
      ],
      "execution_count": null,
      "outputs": [
        {
          "output_type": "execute_result",
          "data": {
            "text/plain": [
              "<tf.Tensor: shape=(5, 10), dtype=float32, numpy=\n",
              "array([[0.08533684, 0.08533683, 0.08533708, 0.08533713, 0.08533683,\n",
              "        0.08533683, 0.08533683, 0.23196793, 0.08533683, 0.08533685],\n",
              "       [0.0853368 , 0.08533714, 0.23196849, 0.0853368 , 0.0853368 ,\n",
              "        0.0853368 , 0.0853368 , 0.0853368 , 0.0853368 , 0.0853368 ],\n",
              "       [0.08533986, 0.23194873, 0.08533871, 0.08533806, 0.08534023,\n",
              "        0.08533818, 0.08533831, 0.08534092, 0.08533899, 0.08533808],\n",
              "       [0.23196772, 0.08533685, 0.08533687, 0.08533685, 0.08533685,\n",
              "        0.08533685, 0.08533745, 0.08533686, 0.08533685, 0.08533688],\n",
              "       [0.08534715, 0.08534715, 0.08534721, 0.08534718, 0.23180461,\n",
              "        0.08534715, 0.08534716, 0.08534831, 0.08534725, 0.0854168 ]],\n",
              "      dtype=float32)>"
            ]
          },
          "metadata": {},
          "execution_count": 11
        }
      ]
    },
    {
      "cell_type": "code",
      "metadata": {
        "id": "yZ9r5WG-1nqm"
      },
      "source": [
        "Y_pred=[]\n",
        "pred=model.predict(X_test)\n",
        "for element in pred:\n",
        "    Y_pred.append(np.argmax(element))"
      ],
      "execution_count": null,
      "outputs": []
    },
    {
      "cell_type": "code",
      "metadata": {
        "colab": {
          "base_uri": "https://localhost:8080/"
        },
        "id": "HFXxKgJB1p8d",
        "outputId": "f0ce1aa0-3b44-4884-c7d6-2a696134696e"
      },
      "source": [
        "Y_pred=np.array(Y_pred)\n",
        "Y_pred"
      ],
      "execution_count": null,
      "outputs": [
        {
          "output_type": "execute_result",
          "data": {
            "text/plain": [
              "array([7, 2, 1, ..., 4, 5, 6])"
            ]
          },
          "metadata": {},
          "execution_count": 13
        }
      ]
    },
    {
      "cell_type": "code",
      "metadata": {
        "colab": {
          "base_uri": "https://localhost:8080/"
        },
        "id": "52iTEBo41vt1",
        "outputId": "efe6e3ab-9b79-4c80-c27d-1d6a00ce3b2c"
      },
      "source": [
        "y_test[:5]"
      ],
      "execution_count": null,
      "outputs": [
        {
          "output_type": "execute_result",
          "data": {
            "text/plain": [
              "array([7, 2, 1, 0, 4], dtype=uint8)"
            ]
          },
          "metadata": {},
          "execution_count": 14
        }
      ]
    },
    {
      "cell_type": "code",
      "metadata": {
        "colab": {
          "base_uri": "https://localhost:8080/"
        },
        "id": "agSh3o5i12Xt",
        "outputId": "b098f50e-8b82-4525-d461-43e92c018dbb"
      },
      "source": [
        "from sklearn.metrics import confusion_matrix\n",
        "cm=confusion_matrix(y_test,Y_pred)\n",
        "cm"
      ],
      "execution_count": null,
      "outputs": [
        {
          "output_type": "execute_result",
          "data": {
            "text/plain": [
              "array([[ 974,    0,    1,    1,    0,    0,    1,    2,    1,    0],\n",
              "       [   0, 1131,    1,    1,    0,    0,    1,    1,    0,    0],\n",
              "       [   1,    2, 1021,    1,    1,    0,    0,    5,    1,    0],\n",
              "       [   0,    0,    0, 1007,    0,    3,    0,    0,    0,    0],\n",
              "       [   1,    0,    0,    1,  964,    0,    2,    2,    1,   11],\n",
              "       [   2,    0,    1,    7,    0,  879,    1,    0,    0,    2],\n",
              "       [   8,    2,    0,    0,    2,   10,  935,    0,    1,    0],\n",
              "       [   0,    2,    5,    5,    0,    0,    0, 1015,    0,    1],\n",
              "       [   5,    0,    2,    5,    0,    3,    0,    2,  953,    4],\n",
              "       [   2,    2,    2,    2,    2,    6,    0,    3,    0,  990]])"
            ]
          },
          "metadata": {},
          "execution_count": 15
        }
      ]
    },
    {
      "cell_type": "code",
      "metadata": {
        "id": "aHBbzG5P17fU"
      },
      "source": [
        "X_test=X_test.reshape(10000,28,28)"
      ],
      "execution_count": null,
      "outputs": []
    },
    {
      "cell_type": "code",
      "metadata": {
        "colab": {
          "base_uri": "https://localhost:8080/",
          "height": 1000
        },
        "id": "0w_P2jVb26IA",
        "outputId": "257e75be-87f3-4017-dec5-ec99871a2117"
      },
      "source": [
        "for i in range(0,10):\n",
        "    plt.figure(figsize=(30,30))\n",
        "    plt.subplot(1,10,i+1)\n",
        "    plt.imshow(X_test[i])\n",
        "    plt.xlabel(Y_pred[i])\n",
        "    plt.title(y_test[i])"
      ],
      "execution_count": null,
      "outputs": [
        {
          "output_type": "display_data",
          "data": {
            "image/png": "[encoded data removed]",
            "text/plain": [
              "<Figure size 2160x2160 with 1 Axes>"
            ]
          },
          "metadata": {
            "needs_background": "light"
          }
        },
        {
          "output_type": "display_data",
          "data": {
            "image/png": "[encoded data removed]",
            "text/plain": [
              "<Figure size 2160x2160 with 1 Axes>"
            ]
          },
          "metadata": {
            "needs_background": "light"
          }
        },
        {
          "output_type": "display_data",
          "data": {
            "image/png": "[encoded data removed]",
            "text/plain": [
              "<Figure size 2160x2160 with 1 Axes>"
            ]
          },
          "metadata": {
            "needs_background": "light"
          }
        },
        {
          "output_type": "display_data",
          "data": {
            "image/png": "[encoded data removed]",
            "text/plain": [
              "<Figure size 2160x2160 with 1 Axes>"
            ]
          },
          "metadata": {
            "needs_background": "light"
          }
        },
        {
          "output_type": "display_data",
          "data": {
            "image/png": "[encoded data removed]",
            "text/plain": [
              "<Figure size 2160x2160 with 1 Axes>"
            ]
          },
          "metadata": {
            "needs_background": "light"
          }
        },
        {
          "output_type": "display_data",
          "data": {
            "image/png": "[encoded data removed]",
            "text/plain": [
              "<Figure size 2160x2160 with 1 Axes>"
            ]
          },
          "metadata": {
            "needs_background": "light"
          }
        },
        {
          "output_type": "display_data",
          "data": {
            "image/png": "[encoded data removed]",
            "text/plain": [
              "<Figure size 2160x2160 with 1 Axes>"
            ]
          },
          "metadata": {
            "needs_background": "light"
          }
        },
        {
          "output_type": "display_data",
          "data": {
            "image/png": "[encoded data removed]",
            "text/plain": [
              "<Figure size 2160x2160 with 1 Axes>"
            ]
          },
          "metadata": {
            "needs_background": "light"
          }
        },
        {
          "output_type": "display_data",
          "data": {
            "image/png": "[encoded data removed]",
            "text/plain": [
              "<Figure size 2160x2160 with 1 Axes>"
            ]
          },
          "metadata": {
            "needs_background": "light"
          }
        },
        {
          "output_type": "display_data",
          "data": {
            "image/png": "[encoded data removed]",
            "text/plain": [
              "<Figure size 2160x2160 with 1 Axes>"
            ]
          },
          "metadata": {
            "needs_background": "light"
          }
        }
      ]
    },
    {
      "cell_type": "code",
      "metadata": {
        "colab": {
          "base_uri": "https://localhost:8080/",
          "height": 667
        },
        "id": "A5ZMCZlP3Cmi",
        "outputId": "b8f73276-2a6a-44cd-8f0b-7b111ebcda11"
      },
      "source": [
        "actual=y_test\n",
        "predicted=Y_pred\n",
        "final=pd.DataFrame({'Actual' :actual,'Predicted':predicted})\n",
        "final.head(20)"
      ],
      "execution_count": null,
      "outputs": [
        {
          "output_type": "execute_result",
          "data": {
            "text/html": [
              "<div>\n",
              "<style scoped>\n",
              "    .dataframe tbody tr th:only-of-type {\n",
              "        vertical-align: middle;\n",
              "    }\n",
              "\n",
              "    .dataframe tbody tr th {\n",
              "        vertical-align: top;\n",
              "    }\n",
              "\n",
              "    .dataframe thead th {\n",
              "        text-align: right;\n",
              "    }\n",
              "</style>\n",
              "<table border=\"1\" class=\"dataframe\">\n",
              "  <thead>\n",
              "    <tr style=\"text-align: right;\">\n",
              "      <th></th>\n",
              "      <th>Actual</th>\n",
              "      <th>Predicted</th>\n",
              "    </tr>\n",
              "  </thead>\n",
              "  <tbody>\n",
              "    <tr>\n",
              "      <th>0</th>\n",
              "      <td>7</td>\n",
              "      <td>7</td>\n",
              "    </tr>\n",
              "    <tr>\n",
              "      <th>1</th>\n",
              "      <td>2</td>\n",
              "      <td>2</td>\n",
              "    </tr>\n",
              "    <tr>\n",
              "      <th>2</th>\n",
              "      <td>1</td>\n",
              "      <td>1</td>\n",
              "    </tr>\n",
              "    <tr>\n",
              "      <th>3</th>\n",
              "      <td>0</td>\n",
              "      <td>0</td>\n",
              "    </tr>\n",
              "    <tr>\n",
              "      <th>4</th>\n",
              "      <td>4</td>\n",
              "      <td>4</td>\n",
              "    </tr>\n",
              "    <tr>\n",
              "      <th>5</th>\n",
              "      <td>1</td>\n",
              "      <td>1</td>\n",
              "    </tr>\n",
              "    <tr>\n",
              "      <th>6</th>\n",
              "      <td>4</td>\n",
              "      <td>4</td>\n",
              "    </tr>\n",
              "    <tr>\n",
              "      <th>7</th>\n",
              "      <td>9</td>\n",
              "      <td>9</td>\n",
              "    </tr>\n",
              "    <tr>\n",
              "      <th>8</th>\n",
              "      <td>5</td>\n",
              "      <td>5</td>\n",
              "    </tr>\n",
              "    <tr>\n",
              "      <th>9</th>\n",
              "      <td>9</td>\n",
              "      <td>9</td>\n",
              "    </tr>\n",
              "    <tr>\n",
              "      <th>10</th>\n",
              "      <td>0</td>\n",
              "      <td>0</td>\n",
              "    </tr>\n",
              "    <tr>\n",
              "      <th>11</th>\n",
              "      <td>6</td>\n",
              "      <td>6</td>\n",
              "    </tr>\n",
              "    <tr>\n",
              "      <th>12</th>\n",
              "      <td>9</td>\n",
              "      <td>9</td>\n",
              "    </tr>\n",
              "    <tr>\n",
              "      <th>13</th>\n",
              "      <td>0</td>\n",
              "      <td>0</td>\n",
              "    </tr>\n",
              "    <tr>\n",
              "      <th>14</th>\n",
              "      <td>1</td>\n",
              "      <td>1</td>\n",
              "    </tr>\n",
              "    <tr>\n",
              "      <th>15</th>\n",
              "      <td>5</td>\n",
              "      <td>5</td>\n",
              "    </tr>\n",
              "    <tr>\n",
              "      <th>16</th>\n",
              "      <td>9</td>\n",
              "      <td>9</td>\n",
              "    </tr>\n",
              "    <tr>\n",
              "      <th>17</th>\n",
              "      <td>7</td>\n",
              "      <td>7</td>\n",
              "    </tr>\n",
              "    <tr>\n",
              "      <th>18</th>\n",
              "      <td>3</td>\n",
              "      <td>3</td>\n",
              "    </tr>\n",
              "    <tr>\n",
              "      <th>19</th>\n",
              "      <td>4</td>\n",
              "      <td>4</td>\n",
              "    </tr>\n",
              "  </tbody>\n",
              "</table>\n",
              "</div>"
            ],
            "text/plain": [
              "    Actual  Predicted\n",
              "0        7          7\n",
              "1        2          2\n",
              "2        1          1\n",
              "3        0          0\n",
              "4        4          4\n",
              "5        1          1\n",
              "6        4          4\n",
              "7        9          9\n",
              "8        5          5\n",
              "9        9          9\n",
              "10       0          0\n",
              "11       6          6\n",
              "12       9          9\n",
              "13       0          0\n",
              "14       1          1\n",
              "15       5          5\n",
              "16       9          9\n",
              "17       7          7\n",
              "18       3          3\n",
              "19       4          4"
            ]
          },
          "metadata": {},
          "execution_count": 18
        }
      ]
    },
    {
      "cell_type": "code",
      "metadata": {
        "colab": {
          "base_uri": "https://localhost:8080/",
          "height": 349
        },
        "id": "DJBb663u3T67",
        "outputId": "7ac7dce2-0b3d-4aa7-f498-7c5fb395232f"
      },
      "source": [
        "plt.figure(figsize=(15,15))\n",
        "sns.heatmap(cm,cmap=\"YlGnBu\",annot=True,fmt='d')\n",
        "plt.xlabel('Predicted')\n",
        "plt.ylabel('Actual')"
      ],
      "execution_count": null,
      "outputs": [
        {
          "output_type": "execute_result",
          "data": {
            "text/plain": [
              "Text(114.0, 0.5, 'Actual')"
            ]
          },
          "metadata": {},
          "execution_count": 20
        },
        {
          "output_type": "display_data",
          "data": {
            "image/png": "[encoded data removed]",
            "text/plain": [
              "<Figure size 1080x1080 with 2 Axes>"
            ]
          },
          "metadata": {
            "needs_background": "light"
          }
        }
      ]
    }
  ]
}